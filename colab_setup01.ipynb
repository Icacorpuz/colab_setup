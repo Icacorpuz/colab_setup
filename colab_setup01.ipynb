{
  "nbformat": 4,
  "nbformat_minor": 0,
  "metadata": {
    "colab": {
      "name": "colab_setup01",
      "provenance": [],
      "authorship_tag": "ABX9TyNbvjCN0LwD4JAZ3MhgQ7hC",
      "include_colab_link": true
    },
    "kernelspec": {
      "name": "python3",
      "display_name": "Python 3"
    },
    "language_info": {
      "name": "python"
    }
  },
  "cells": [
    {
      "cell_type": "markdown",
      "metadata": {
        "id": "view-in-github",
        "colab_type": "text"
      },
      "source": [
        "<a href=\"https://colab.research.google.com/github/Icacorpuz/colab_setup/blob/main/colab_setup01.ipynb\" target=\"_parent\"><img src=\"https://colab.research.google.com/assets/colab-badge.svg\" alt=\"Open In Colab\"/></a>"
      ]
    },
    {
      "cell_type": "markdown",
      "source": [
        "colab_setup"
      ],
      "metadata": {
        "id": "ZrRv86BzORbm"
      }
    },
    {
      "cell_type": "markdown",
      "source": [
        "corpuz,ica"
      ],
      "metadata": {
        "id": "QpZZIl3FOUAy"
      }
    },
    {
      "cell_type": "code",
      "source": [
        "1+1"
      ],
      "metadata": {
        "colab": {
          "base_uri": "https://localhost:8080/"
        },
        "id": "ljgGCd3QOV-L",
        "outputId": "f3fe5b38-6dd2-4ecb-f7c4-acd27e190a96"
      },
      "execution_count": 1,
      "outputs": [
        {
          "output_type": "execute_result",
          "data": {
            "text/plain": [
              "2"
            ]
          },
          "metadata": {},
          "execution_count": 1
        }
      ]
    }
  ]
}